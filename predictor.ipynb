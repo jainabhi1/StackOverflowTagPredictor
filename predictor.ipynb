{
 "cells": [
  {
   "cell_type": "code",
   "execution_count": 1,
   "metadata": {
    "collapsed": false,
    "deletable": true,
    "editable": true
   },
   "outputs": [
    {
     "name": "stdout",
     "output_type": "stream",
     "text": [
      "090310.pdf\n",
      "a.out\n",
      "applied.txt\n",
      "BAI_Chapter2.pdf\n",
      "Chapter 19.pdf\n",
      "deja-dup\n",
      "Desktop\n",
      "Documents\n",
      "Downloads\n",
      "eclipse\n",
      "files\n",
      "FUNDAMENTAL OF MATHEMATICAL STATISTICS-S C GUPTA & V K KAPOOR.pdf\n",
      "FUNDAMENTAL OF MATHEMATICAL STATISTICS-S C GUPTA & V K KAPOOR.pdf.zip\n",
      "hackerearth\n",
      "hackerearth.cpp\n",
      "hello1.py\n",
      "hello2.py\n",
      "hello3.py\n",
      "hello.py\n",
      "heloo1.txt\n",
      "in.txt\n",
      "Iris.csv\n",
      "iris.ipynb\n",
      "jf.class\n",
      "jf.java\n",
      "Music\n",
      "new.html\n",
      "nlp.py\n",
      "nltk_data\n",
      "node_modules\n",
      "out.txt\n",
      "Pictures\n",
      "project.ipynb\n",
      "project.zip\n",
      "Public\n",
      "qq2\n",
      "qq2.zip\n",
      "resume.pdf.odt_0.odt\n",
      "search_box.java\n",
      "sw.class\n",
      "sw$InputReader.class\n",
      "sw.java\n",
      "Tags.csv\n",
      "Tags.csv.zip\n",
      "Templates\n",
      "test1.csv\n",
      "TestClass.class\n",
      "TestClass$InputReader.class\n",
      "test.csv\n",
      "test.txt\n",
      "Videos\n",
      "workspace\n",
      "workspace1\n",
      "yomama.txt\n",
      "yoo\n",
      "yoo.cpp\n",
      "yo.py\n",
      "yoy\n",
      "yoy.cpp\n",
      "\n"
     ]
    }
   ],
   "source": [
    "import pandas as pd\n",
    "import numpy as np\n",
    "import matplotlib.pyplot as plt\n",
    "import seaborn as sns\n",
    "from subprocess import check_output\n",
    "from sklearn.preprocessing import MultiLabelBinarizer\n",
    "from sklearn.model_selection import train_test_split\n",
    "from sklearn.pipeline import Pipeline\n",
    "from sklearn.feature_extraction.text import CountVectorizer\n",
    "from sklearn.svm import LinearSVC\n",
    "from sklearn.feature_extraction.text import TfidfTransformer\n",
    "from sklearn.multiclass import OneVsRestClassifier\n",
    "%matplotlib inline\n",
    "print (check_output([\"ls\", \"../abhi/\"])).decode(\"utf8\")"
   ]
  },
  {
   "cell_type": "code",
   "execution_count": 2,
   "metadata": {
    "collapsed": false,
    "deletable": true,
    "editable": true
   },
   "outputs": [],
   "source": [
    "data = pd.read_csv(\"../abhi/test1.csv\")"
   ]
  },
  {
   "cell_type": "code",
   "execution_count": 3,
   "metadata": {
    "collapsed": false,
    "deletable": true,
    "editable": true
   },
   "outputs": [],
   "source": [
    "x = np.array(data['Title'])\n",
    "y = np.array([np.array(word.split(\" \")) for word in data['Tags']])"
   ]
  },
  {
   "cell_type": "code",
   "execution_count": 4,
   "metadata": {
    "collapsed": false,
    "deletable": true,
    "editable": true
   },
   "outputs": [
    {
     "data": {
      "text/plain": [
       "array(['deleting char ** correctly',\n",
       "       'merge cell datagridview winform using c#',\n",
       "       'scheduling priority considerations', ...,\n",
       "       'log4j commons logging co-existing',\n",
       "       'wcf + wf + iis 7 virtual path error',\n",
       "       'project require application architect'], dtype=object)"
      ]
     },
     "execution_count": 4,
     "metadata": {},
     "output_type": "execute_result"
    }
   ],
   "source": [
    "X_train, X_test, y_train, y_test = train_test_split( x, y, test_size=0.2, random_state=0)\n",
    "X_train"
   ]
  },
  {
   "cell_type": "code",
   "execution_count": 5,
   "metadata": {
    "collapsed": false,
    "deletable": true,
    "editable": true
   },
   "outputs": [],
   "source": [
    "mlb = MultiLabelBinarizer()\n",
    "Y = mlb.fit_transform(y_train)"
   ]
  },
  {
   "cell_type": "code",
   "execution_count": 6,
   "metadata": {
    "collapsed": true,
    "deletable": true,
    "editable": true
   },
   "outputs": [],
   "source": [
    "classifier = Pipeline([\n",
    "    ('vectorizer', CountVectorizer()),\n",
    "    ('tfidf', TfidfTransformer()),\n",
    "    ('clf', OneVsRestClassifier(LinearSVC()))])\n"
   ]
  },
  {
   "cell_type": "code",
   "execution_count": 102,
   "metadata": {
    "collapsed": false,
    "deletable": true,
    "editable": true
   },
   "outputs": [
    {
     "data": {
      "text/plain": [
       "Pipeline(steps=[('vectorizer', CountVectorizer(analyzer=u'word', binary=False, decode_error=u'strict',\n",
       "        dtype=<type 'numpy.int64'>, encoding=u'utf-8', input=u'content',\n",
       "        lowercase=True, max_df=1.0, max_features=None, min_df=1,\n",
       "        ngram_range=(1, 1), preprocessor=None, stop_words=None,\n",
       "    ...lti_class='ovr', penalty='l2', random_state=None, tol=0.0001,\n",
       "     verbose=0),\n",
       "          n_jobs=1))])"
      ]
     },
     "execution_count": 102,
     "metadata": {},
     "output_type": "execute_result"
    }
   ],
   "source": [
    "classifier.fit(X_train,Y)"
   ]
  },
  {
   "cell_type": "code",
   "execution_count": 103,
   "metadata": {
    "collapsed": false,
    "deletable": true,
    "editable": true
   },
   "outputs": [
    {
     "data": {
      "text/plain": [
       "[()]"
      ]
     },
     "execution_count": 103,
     "metadata": {},
     "output_type": "execute_result"
    }
   ],
   "source": [
    "pred = np.array([\"get list domains network\"])\n",
    "p = classifier.predict(pred)\n",
    "all_labels = mlb.inverse_transform(p)\n",
    "all_labels"
   ]
  }
 ],
 "metadata": {
  "kernelspec": {
   "display_name": "Python 2",
   "language": "python",
   "name": "python2"
  },
  "language_info": {
   "codemirror_mode": {
    "name": "ipython",
    "version": 2
   },
   "file_extension": ".py",
   "mimetype": "text/x-python",
   "name": "python",
   "nbconvert_exporter": "python",
   "pygments_lexer": "ipython2",
   "version": "2.7.12"
  }
 },
 "nbformat": 4,
 "nbformat_minor": 2
}
